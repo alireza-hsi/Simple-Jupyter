{
 "cells": [
  {
   "cell_type": "markdown",
   "id": "a7d24322",
   "metadata": {},
   "source": [
    "# My Jupyter Notebook on IBM Watson Studio"
   ]
  },
  {
   "cell_type": "markdown",
   "id": "5b78dfa9",
   "metadata": {},
   "source": [
    "**Alireza Houshidari**\n",
    "\n",
    "Aspiring Data Scientist"
   ]
  },
  {
   "cell_type": "markdown",
   "id": "6556c231",
   "metadata": {},
   "source": [
    "*I am interested in data science due to the fact that it can change the world.* *It is immnesly useful in todays world that we need statistical approaches to deal with the big data available*"
   ]
  },
  {
   "cell_type": "markdown",
   "id": "9eefef30",
   "metadata": {},
   "source": [
    "### My code is significantly complicated as it can handle great math problems. It sums 2 to 3  :)"
   ]
  },
  {
   "cell_type": "code",
   "execution_count": 2,
   "id": "bc2579ff",
   "metadata": {},
   "outputs": [
    {
     "data": {
      "text/plain": [
       "5"
      ]
     },
     "execution_count": 2,
     "metadata": {},
     "output_type": "execute_result"
    }
   ],
   "source": [
    "2 + 3"
   ]
  },
  {
   "cell_type": "markdown",
   "id": "4cafb5db",
   "metadata": {},
   "source": [
    "|this      | |*is a good*  | |table   |\n",
    "|:--------:| |:-----------:| |:------:|\n",
    "|**col 1** | |col 2        | |*col 3* |\n",
    "|col 4     | |~~col 5~~    | |col 6   |\n",
    "\n",
    "\n",
    "___\n",
    "\n",
    ">the table above contains vital information.\n",
    "\n",
    "***\n",
    "[A very secret link to a very secret page](https://www.google.com)"
   ]
  }
 ],
 "metadata": {
  "kernelspec": {
   "display_name": "Python 3",
   "language": "python",
   "name": "python3"
  },
  "language_info": {
   "codemirror_mode": {
    "name": "ipython",
    "version": 3
   },
   "file_extension": ".py",
   "mimetype": "text/x-python",
   "name": "python",
   "nbconvert_exporter": "python",
   "pygments_lexer": "ipython3",
   "version": "3.8.8"
  }
 },
 "nbformat": 4,
 "nbformat_minor": 5
}
